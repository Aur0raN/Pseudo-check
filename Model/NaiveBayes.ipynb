{
 "cells": [
  {
   "cell_type": "code",
   "execution_count": 62,
   "id": "617e28ce",
   "metadata": {},
   "outputs": [
    {
     "name": "stdout",
     "output_type": "stream",
     "text": [
      "          Id                                              Tweet  following  \\\n",
      "0      10091  It's the everything else that's complicated. #...        0.0   \n",
      "1      10172  Eren sent a glare towards Mikasa then nodded a...        0.0   \n",
      "2       7012  I posted a new photo to Facebook http://fb.me/...        0.0   \n",
      "3       3697  #jan Idiot Chelsea Handler Diagnoses Trump Wit...     3319.0   \n",
      "4      10740  Pedophile Anthony Weiner is TERRIFIED of Getti...     4840.0   \n",
      "...      ...                                                ...        ...   \n",
      "11963   7866                                   11:11 meet harry        0.0   \n",
      "11964   7841  If BBC Food disappears the loss of knowledge w...        0.0   \n",
      "11965   9090  Look What Liberals Did to This Historic Monume...        0.0   \n",
      "11966   6818  I uploaded a new track, \"Everyday Lite 1\", on ...        0.0   \n",
      "11967   4937  Trump should be declared the victor by about 9...     2028.0   \n",
      "\n",
      "       followers  actions  is_retweet       location     Type  \n",
      "0        11500.0      NaN         0.0        Chicago  Quality  \n",
      "1            0.0      NaN         0.0            NaN  Quality  \n",
      "2            0.0      NaN         0.0  Scotland, U.K  Quality  \n",
      "3          611.0    294.0         0.0    Atlanta, Ga     Spam  \n",
      "4         1724.0   1522.0         0.0       Blumberg     Spam  \n",
      "...          ...      ...         ...            ...      ...  \n",
      "11963        0.0      0.0         0.0            NaN  Quality  \n",
      "11964        0.0      NaN         0.0     London, N4  Quality  \n",
      "11965        2.0   1192.0         0.0  honeymoon ãve     Spam  \n",
      "11966        0.0      0.0         0.0    Mega Manila  Quality  \n",
      "11967     1674.0   2729.0         1.0  United States     Spam  \n",
      "\n",
      "[11968 rows x 8 columns]\n"
     ]
    }
   ],
   "source": [
    "from pandas import read_csv\n",
    "import pandas as pd\n",
    "from sklearn.model_selection import train_test_split \n",
    "from sklearn.feature_extraction.text import CountVectorizer\n",
    "from sklearn.naive_bayes import MultinomialNB\n",
    "import matplotlib.pyplot as plt\n",
    "from sklearn.metrics import confusion_matrix, ConfusionMatrixDisplay\n",
    "path = r\"train.csv\"\n",
    "data = read_csv(path)\n",
    "data_test = pd.read_csv(path)\n",
    "print(data_test)\n",
    "# print(data.head(10))"
   ]
  },
  {
   "cell_type": "code",
   "execution_count": 5,
   "id": "1503d5e6",
   "metadata": {},
   "outputs": [
    {
     "data": {
      "text/plain": [
       "Index(['Id', 'Tweet', 'following', 'followers', 'actions', 'is_retweet',\n",
       "       'location', 'Type'],\n",
       "      dtype='object')"
      ]
     },
     "execution_count": 5,
     "metadata": {},
     "output_type": "execute_result"
    }
   ],
   "source": [
    "data.columns"
   ]
  },
  {
   "cell_type": "code",
   "execution_count": 30,
   "id": "f68233a4",
   "metadata": {},
   "outputs": [],
   "source": [
    "x=data.iloc[:,1].values\n",
    "y=data.iloc[:,7].values\n",
    "  \n",
    "x_train, x_test, y_train, y_test = train_test_split(x, y, test_size = 0.25, random_state = 0)  "
   ]
  },
  {
   "cell_type": "code",
   "execution_count": 78,
   "id": "2173e254",
   "metadata": {
    "scrolled": true
   },
   "outputs": [
    {
     "name": "stdout",
     "output_type": "stream",
     "text": [
      "['Spam' 'Spam']\n",
      "The models accuracy is 94.31818181818183\n",
      "[[1476   50]\n",
      " [ 120 1346]]\n"
     ]
    },
    {
     "data": {
      "image/png": "[encoded data removed]",
      "text/plain": [
       "<Figure size 432x288 with 2 Axes>"
      ]
     },
     "metadata": {
      "needs_background": "light"
     },
     "output_type": "display_data"
    }
   ],
   "source": [
    "vectorizer = CountVectorizer()\n",
    "counts = vectorizer.fit_transform(x_train)\n",
    "\n",
    "classifier = MultinomialNB()\n",
    "\n",
    "classifier.fit(counts,y_train)\n",
    "\n",
    "examples = ['Handler Diagnoses Trump With a Disease', \"she looks like jotaro in part 4 im crying\"]\n",
    "example_counts = vectorizer.transform(examples)\n",
    "predictions = classifier.predict(example_counts)\n",
    "print(predictions)\n",
    "\n",
    "counts_test = vectorizer.transform(x_test)\n",
    "y_pred = classifier.predict(counts_test)\n",
    "\n",
    "\n",
    "\n",
    "cm = confusion_matrix(y_test, y_pred, labels=classifier.classes_)\n",
    "from sklearn.metrics import accuracy_score\n",
    "value = accuracy_score(y_test, y_pred)\n",
    "print(\"The models accuracy is \" + str(value*100))\n",
    "print(cm)\n",
    "\n",
    "\n",
    "import seaborn as sns\n",
    "\n",
    "from matplotlib import pyplot as plt\n",
    "import numpy as np\n",
    "ax = sns.heatmap(cm/np.sum(cm), annot=True, \n",
    "            fmt='.2%', cmap='Blues')\n",
    "\n",
    "ax.set_title('Seaborn Confusion Matrix with labels\\n\\n');\n",
    "ax.set_xlabel('\\nPredicted Values')\n",
    "ax.set_ylabel('Actual Values ');\n",
    "\n",
    "## Ticket labels - List must be in alphabetical order\n",
    "ax.xaxis.set_ticklabels(['False','True'])\n",
    "ax.yaxis.set_ticklabels(['False','True'])\n",
    "\n",
    "## Display the visualization of the Confusion Matrix.\n",
    "plt.show()"
   ]
  },
  {
   "cell_type": "code",
   "execution_count": null,
   "id": "241080d0",
   "metadata": {},
   "outputs": [],
   "source": []
  },
  {
   "cell_type": "code",
   "execution_count": null,
   "id": "b80821d0",
   "metadata": {},
   "outputs": [],
   "source": []
  },
  {
   "cell_type": "code",
   "execution_count": null,
   "id": "2159389b",
   "metadata": {},
   "outputs": [],
   "source": []
  }
 ],
 "metadata": {
  "kernelspec": {
   "display_name": "Python 3 (ipykernel)",
   "language": "python",
   "name": "python3"
  },
  "language_info": {
   "codemirror_mode": {
    "name": "ipython",
    "version": 3
   },
   "file_extension": ".py",
   "mimetype": "text/x-python",
   "name": "python",
   "nbconvert_exporter": "python",
   "pygments_lexer": "ipython3",
   "version": "3.9.7"
  }
 },
 "nbformat": 4,
 "nbformat_minor": 5
}
